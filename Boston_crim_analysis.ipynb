{
  "nbformat": 4,
  "nbformat_minor": 0,
  "metadata": {
    "colab": {
      "private_outputs": true,
      "provenance": [],
      "toc_visible": true,
      "authorship_tag": "ABX9TyO2EIC3mumAzHUFPxAlrgmd",
      "include_colab_link": true
    },
    "kernelspec": {
      "name": "python3",
      "display_name": "Python 3"
    },
    "language_info": {
      "name": "python"
    }
  },
  "cells": [
    {
      "cell_type": "markdown",
      "metadata": {
        "id": "view-in-github",
        "colab_type": "text"
      },
      "source": [
        "<a href=\"https://colab.research.google.com/github/Jumponpatha/portfolio/blob/main/Boston_crim_analysis.ipynb\" target=\"_parent\"><img src=\"https://colab.research.google.com/assets/colab-badge.svg\" alt=\"Open In Colab\"/></a>"
      ]
    },
    {
      "cell_type": "code",
      "execution_count": null,
      "metadata": {
        "id": "jeo_T8xVoy80"
      },
      "outputs": [],
      "source": [
        "import pandas as pd"
      ]
    },
    {
      "cell_type": "code",
      "source": [
        "code = pd.read_csv('offense_codes.csv', encoding='ISO-8859-1')\n",
        "code.head()"
      ],
      "metadata": {
        "id": "CuQTMqnxpJdY"
      },
      "execution_count": null,
      "outputs": []
    },
    {
      "cell_type": "code",
      "source": [
        "crime = pd.read_csv('crime.csv', encoding='ISO-8859-1')\n",
        "crime"
      ],
      "metadata": {
        "id": "uyPnw6pfqOWE"
      },
      "execution_count": null,
      "outputs": []
    },
    {
      "cell_type": "code",
      "source": [
        "print(crime.shape)\n",
        "print(code.shape)"
      ],
      "metadata": {
        "id": "Uu2H8DLHtQ8l"
      },
      "execution_count": null,
      "outputs": []
    },
    {
      "cell_type": "code",
      "source": [
        "print(crime.info())"
      ],
      "metadata": {
        "id": "31dDia7GqSG5"
      },
      "execution_count": null,
      "outputs": []
    },
    {
      "cell_type": "code",
      "source": [
        "print(code.info)"
      ],
      "metadata": {
        "id": "5tRArO2Lth1L"
      },
      "execution_count": null,
      "outputs": []
    },
    {
      "cell_type": "code",
      "source": [
        "crime.columns"
      ],
      "metadata": {
        "id": "Gf9HwcMgrtUa"
      },
      "execution_count": null,
      "outputs": []
    },
    {
      "cell_type": "code",
      "source": [
        "code.columns"
      ],
      "metadata": {
        "id": "2SuuBJETr3jO"
      },
      "execution_count": null,
      "outputs": []
    },
    {
      "cell_type": "code",
      "source": [
        "crime.nunique()"
      ],
      "metadata": {
        "id": "p68gAHgktc6j"
      },
      "execution_count": null,
      "outputs": []
    },
    {
      "cell_type": "code",
      "source": [
        "code.nunique()"
      ],
      "metadata": {
        "id": "Vz7zsUIeCRok"
      },
      "execution_count": null,
      "outputs": []
    },
    {
      "cell_type": "code",
      "source": [
        "crime.isnull().values.any()"
      ],
      "metadata": {
        "id": "G6jrkmIAtmlC"
      },
      "execution_count": null,
      "outputs": []
    },
    {
      "cell_type": "code",
      "source": [
        "crime = crime.drop_duplicates()\n",
        "crime"
      ],
      "metadata": {
        "id": "-z4-hS93t1Zf"
      },
      "execution_count": null,
      "outputs": []
    },
    {
      "cell_type": "code",
      "source": [
        "crime['SHOOTING']"
      ],
      "metadata": {
        "id": "cJj2XKMxuG7W"
      },
      "execution_count": null,
      "outputs": []
    },
    {
      "cell_type": "code",
      "source": [
        "crime = crime.drop(columns= [ 'SHOOTING','Lat', 'Long', 'Location', 'OFFENSE_DESCRIPTION'])\n",
        "crime"
      ],
      "metadata": {
        "id": "o9XRysx3t4Gk"
      },
      "execution_count": null,
      "outputs": []
    },
    {
      "cell_type": "code",
      "source": [
        "crime = crime.dropna()\n",
        "crime"
      ],
      "metadata": {
        "id": "Y67egNTPuzuu"
      },
      "execution_count": null,
      "outputs": []
    },
    {
      "cell_type": "code",
      "source": [
        "crime.isnull().values.any()"
      ],
      "metadata": {
        "id": "maHApYBUvDcT"
      },
      "execution_count": null,
      "outputs": []
    },
    {
      "cell_type": "code",
      "source": [
        "crime.shape"
      ],
      "metadata": {
        "id": "8sgj9ePvvwZm"
      },
      "execution_count": null,
      "outputs": []
    },
    {
      "cell_type": "code",
      "source": [
        "code.isnull().values.any()"
      ],
      "metadata": {
        "id": "3CkdhdbYwFwZ"
      },
      "execution_count": null,
      "outputs": []
    },
    {
      "cell_type": "code",
      "source": [
        "year = pd.DataFrame(crime.groupby('YEAR')['INCIDENT_NUMBER'].count())\n",
        "year"
      ],
      "metadata": {
        "id": "7S0aQl8OwJDK"
      },
      "execution_count": null,
      "outputs": []
    },
    {
      "cell_type": "code",
      "source": [
        "year2018 = crime[(crime['YEAR'] == 2018)]\n",
        "year2018"
      ],
      "metadata": {
        "id": "vFUvZjbhwbx1"
      },
      "execution_count": null,
      "outputs": []
    },
    {
      "cell_type": "code",
      "source": [
        "pd.DataFrame(year2018.groupby('MONTH')['INCIDENT_NUMBER'].count())"
      ],
      "metadata": {
        "id": "80CUeizSxnhq"
      },
      "execution_count": null,
      "outputs": []
    },
    {
      "cell_type": "code",
      "source": [
        "pd.DataFrame(year2018.groupby(['STREET','DISTRICT'])['OFFENSE_CODE'].count().sort_values(ascending=False).head(10))"
      ],
      "metadata": {
        "id": "xcBSYnyK-sMf"
      },
      "execution_count": null,
      "outputs": []
    },
    {
      "cell_type": "code",
      "source": [
        "year2018.groupby('DAY_OF_WEEK')['INCIDENT_NUMBER','UCR_PART','HOUR'].agg({'INCIDENT_NUMBER': 'nunique', 'UCR_PART': 'unique','HOUR':'mean'})"
      ],
      "metadata": {
        "id": "PphK-OJUzOV_"
      },
      "execution_count": null,
      "outputs": []
    },
    {
      "cell_type": "code",
      "source": [
        "df1 = year2018.pivot_table(index = \"MONTH\", values = 'OFFENSE_CODE_GROUP', columns = 'DAY_OF_WEEK', aggfunc = 'count')\n",
        "df1 = df1.fillna(0)\n",
        "df1"
      ],
      "metadata": {
        "id": "AMo25iuM8jl6"
      },
      "execution_count": null,
      "outputs": []
    },
    {
      "cell_type": "code",
      "source": [
        "df_merge = year2018.merge(code, how = 'left', left_on = 'OFFENSE_CODE', right_on = 'CODE')\n",
        "df_merge"
      ],
      "metadata": {
        "id": "BqFD43cPBOqD"
      },
      "execution_count": null,
      "outputs": []
    }
  ]
}