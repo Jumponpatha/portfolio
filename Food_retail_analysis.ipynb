{
  "nbformat": 4,
  "nbformat_minor": 0,
  "metadata": {
    "colab": {
      "private_outputs": true,
      "provenance": [],
      "toc_visible": true,
      "authorship_tag": "ABX9TyO6oaxuwyYasUQkTiSWv3Gs",
      "include_colab_link": true
    },
    "kernelspec": {
      "name": "python3",
      "display_name": "Python 3"
    },
    "language_info": {
      "name": "python"
    }
  },
  "cells": [
    {
      "cell_type": "markdown",
      "metadata": {
        "id": "view-in-github",
        "colab_type": "text"
      },
      "source": [
        "<a href=\"https://colab.research.google.com/github/Jumponpatha/portfolio/blob/main/Food_retail_analysis.ipynb\" target=\"_parent\"><img src=\"https://colab.research.google.com/assets/colab-badge.svg\" alt=\"Open In Colab\"/></a>"
      ]
    },
    {
      "cell_type": "markdown",
      "source": [
        "# **Food Retail Analysis with Market Basket Anlaysis**"
      ],
      "metadata": {
        "id": "VpFev58s5eC-"
      }
    },
    {
      "cell_type": "markdown",
      "source": [
        "**Problem Statement** :\n",
        "- What can be done to improve the purchased of products from the food retail?\n",
        "- Which products can be the target for cross-selling?\n"
      ],
      "metadata": {
        "id": "T2L0ZvEEmSPa"
      }
    },
    {
      "cell_type": "markdown",
      "source": [
        "## **Data Collection**"
      ],
      "metadata": {
        "id": "S0ZFxuBPB1Hf"
      }
    },
    {
      "cell_type": "markdown",
      "source": [
        "**Import Libraries**"
      ],
      "metadata": {
        "id": "u2Hi43P4IFgV"
      }
    },
    {
      "cell_type": "code",
      "execution_count": null,
      "metadata": {
        "id": "-8OVp41riM0H"
      },
      "outputs": [],
      "source": [
        "import pandas as pd\n",
        "from datetime import datetime\n",
        "import numpy as np\n",
        "import matplotlib.pyplot as plt\n",
        "import mlxtend\n",
        "from mlxtend.frequent_patterns import association_rules, apriori"
      ]
    },
    {
      "cell_type": "markdown",
      "source": [
        "**Load Dataset**"
      ],
      "metadata": {
        "id": "O_5wL6zFHl18"
      }
    },
    {
      "cell_type": "markdown",
      "source": [
        "* *Transactions Dataset*"
      ],
      "metadata": {
        "id": "5_VJ8lVEIq5F"
      }
    },
    {
      "cell_type": "code",
      "source": [
        "transactions = pd.read_csv('dh_transactions.csv')\n",
        "transactions"
      ],
      "metadata": {
        "id": "ihd78gWQmU66"
      },
      "execution_count": null,
      "outputs": []
    },
    {
      "cell_type": "markdown",
      "source": [
        "* *Product Detail Dataset*"
      ],
      "metadata": {
        "id": "olekSr7AIxpC"
      }
    },
    {
      "cell_type": "code",
      "source": [
        "product = pd.read_csv('dh_product_lookup.csv')\n",
        "product"
      ],
      "metadata": {
        "id": "ZZIoxa3Y_6Nu"
      },
      "execution_count": null,
      "outputs": []
    },
    {
      "cell_type": "markdown",
      "source": [
        "* *Store Dataset*"
      ],
      "metadata": {
        "id": "Y1GmigpkIBgP"
      }
    },
    {
      "cell_type": "code",
      "source": [
        "store = pd.read_csv('dh_store_lookup.csv')\n",
        "store"
      ],
      "metadata": {
        "id": "b7KbYYV-pNwp"
      },
      "execution_count": null,
      "outputs": []
    },
    {
      "cell_type": "markdown",
      "source": [
        "* *Causal Dataset*"
      ],
      "metadata": {
        "id": "Sy6uLSxzIHuR"
      }
    },
    {
      "cell_type": "code",
      "source": [
        "causal = pd.read_csv('dh_causal_lookup.csv')\n",
        "causal"
      ],
      "metadata": {
        "id": "PCc6HYmepNlo"
      },
      "execution_count": null,
      "outputs": []
    },
    {
      "cell_type": "markdown",
      "source": [
        "## **Data Description**"
      ],
      "metadata": {
        "id": "1ppk59nvDZdu"
      }
    },
    {
      "cell_type": "code",
      "source": [
        "# Transactions dataset\n",
        "transactions.info()"
      ],
      "metadata": {
        "id": "NDC3N1waGTlq"
      },
      "execution_count": null,
      "outputs": []
    },
    {
      "cell_type": "code",
      "source": [
        "# Product dataset\n",
        "product.info()"
      ],
      "metadata": {
        "id": "yVlkk_lCHpCT"
      },
      "execution_count": null,
      "outputs": []
    },
    {
      "cell_type": "code",
      "source": [
        "# Store dataset\n",
        "store.info()"
      ],
      "metadata": {
        "id": "suyQF1FUp0S4"
      },
      "execution_count": null,
      "outputs": []
    },
    {
      "cell_type": "code",
      "source": [
        "# Causal dataset\n",
        "causal.info()"
      ],
      "metadata": {
        "id": "4E44mbrxp0Lh"
      },
      "execution_count": null,
      "outputs": []
    },
    {
      "cell_type": "markdown",
      "source": [
        "## **Data Preparation**"
      ],
      "metadata": {
        "id": "PMVTTw39GAGP"
      }
    },
    {
      "cell_type": "markdown",
      "source": [
        "* **Data Cleansing in Transactions Dataset**"
      ],
      "metadata": {
        "id": "ISDWnHkKq-rd"
      }
    },
    {
      "cell_type": "markdown",
      "source": [
        "1. Finding and Removing Null/NAN/missing value"
      ],
      "metadata": {
        "id": "lM1Fm5msu6uO"
      }
    },
    {
      "cell_type": "code",
      "source": [
        "transactions.isnull().sum()"
      ],
      "metadata": {
        "id": "4Iwc0-8YHGmE"
      },
      "execution_count": null,
      "outputs": []
    },
    {
      "cell_type": "markdown",
      "source": [
        "\n",
        "\n",
        "2. Find and removing Duplicated Columns"
      ],
      "metadata": {
        "id": "saQ56nV_OGF5"
      }
    },
    {
      "cell_type": "code",
      "source": [
        "transactions.duplicated().sum()"
      ],
      "metadata": {
        "id": "5xLmYHQHMSNO"
      },
      "execution_count": null,
      "outputs": []
    },
    {
      "cell_type": "markdown",
      "source": [
        "3. Finding and Removing with negative value"
      ],
      "metadata": {
        "id": "TepvEWjkv1zp"
      }
    },
    {
      "cell_type": "code",
      "source": [
        "# Show the non-positive 'dollar_sales'\n",
        "transactions[transactions['dollar_sales'] < 0]"
      ],
      "metadata": {
        "id": "4fWrszVE-bel"
      },
      "execution_count": null,
      "outputs": []
    },
    {
      "cell_type": "code",
      "source": [
        "# Selecting only positive 'dollar sales' ( More than 0)\n",
        "transactions = transactions[transactions['dollar_sales'] > 0]\n",
        "transactions"
      ],
      "metadata": {
        "id": "sdcARjz_Z_qi"
      },
      "execution_count": null,
      "outputs": []
    },
    {
      "cell_type": "markdown",
      "source": [
        "* **Converting a 'time of transaction' to Timestamp index**"
      ],
      "metadata": {
        "id": "DWTVJIrC4XFB"
      }
    },
    {
      "cell_type": "code",
      "source": [
        "# Show 'time_of_transaction' column\n",
        "pd.DataFrame(transactions['time_of_transaction'])"
      ],
      "metadata": {
        "id": "H1X4Ea6EOmTD"
      },
      "execution_count": null,
      "outputs": []
    },
    {
      "cell_type": "code",
      "source": [
        "# Transform 'time_of_transaction' column to Time index\n",
        "transactions['time_of_transaction'] = transactions['time_of_transaction'].astype(str).str.zfill(4)\n",
        "transactions['time_of_transaction'] = pd.to_datetime(transactions['time_of_transaction'], format='%H%M').dt.strftime('%H:%M')\n",
        "transactions"
      ],
      "metadata": {
        "id": "eHdX9mAH-WF0"
      },
      "execution_count": null,
      "outputs": []
    },
    {
      "cell_type": "code",
      "source": [
        "# Create columns and focus on 'hour'\n",
        "transactions[['hour', 'minute']] = transactions['time_of_transaction'].str.split(':', expand=True)\n",
        "transactions_new = transactions.drop(columns=['minute'])\n",
        "transactions_new"
      ],
      "metadata": {
        "id": "DI4UDoEI_Lup"
      },
      "execution_count": null,
      "outputs": []
    },
    {
      "cell_type": "markdown",
      "source": [
        "* **Selecting relevant geographical areas for analysis by checking how all the\n",
        "transactions are distributed**"
      ],
      "metadata": {
        "id": "t1HgHF9MGixU"
      }
    },
    {
      "cell_type": "code",
      "source": [
        "# Show frequency each geography area\n",
        "pd.DataFrame(transactions.geography.value_counts(normalize=True))"
      ],
      "metadata": {
        "id": "X0sPTbSbEUgY"
      },
      "execution_count": null,
      "outputs": []
    },
    {
      "cell_type": "code",
      "source": [
        "# Regarding geography area 1\n",
        "geo_transaction = transactions[transactions['geography'] == 1]\n",
        "geo_transaction"
      ],
      "metadata": {
        "id": "zKKsh96pEkMP"
      },
      "execution_count": null,
      "outputs": []
    },
    {
      "cell_type": "markdown",
      "source": [
        "* **Selecting 'store' for analysis by checking how all the\n",
        "transactions are distributed by 'store'**"
      ],
      "metadata": {
        "id": "9hbH2n2eG04k"
      }
    },
    {
      "cell_type": "code",
      "source": [
        "# List the most percentage frequency store\n",
        "pd.DataFrame(geo_transaction.store.value_counts(normalize=True)[:10])"
      ],
      "metadata": {
        "id": "2pKVgFxXLd1H"
      },
      "execution_count": null,
      "outputs": []
    },
    {
      "cell_type": "code",
      "source": [
        "# Select only regarding store\n",
        "store_transactions = geo_transaction[geo_transaction['store'] == 71]\n",
        "store_transactions"
      ],
      "metadata": {
        "id": "22eYE3hKaa2Y"
      },
      "execution_count": null,
      "outputs": []
    },
    {
      "cell_type": "markdown",
      "source": [
        "* **Remove all 'basket' that have only one item since we are analyzing items\n",
        "bought together**"
      ],
      "metadata": {
        "id": "StTdtIyRGMoD"
      }
    },
    {
      "cell_type": "code",
      "source": [
        "# Define basket size\n",
        "basket = store_transactions.groupby('basket').size()\n",
        "\n",
        "# Select only multiple 'basket'\n",
        "condition = basket > 1\n",
        "\n",
        "# Get transactions data to new\n",
        "new_transactions = transactions[transactions['basket'].isin(basket[condition].index)]\n",
        "new_transactions"
      ],
      "metadata": {
        "id": "WZUn3tDm4CCg"
      },
      "execution_count": null,
      "outputs": []
    },
    {
      "cell_type": "markdown",
      "source": [
        "**Explanation:** The conclusion of data preparation, I had checking that no have Null/NaN/missing value and duplicated colums, selecting only non-negative value of 'dollars_sale', convert 'time_of_transaction' from integer to be time index and create 'hour' columns, regarding selected geography and store, and remove single 'basket' transactions. A total of 19,538 rows (roughly 1.035% of the initial count) were discarded from 5,197,681 rows."
      ],
      "metadata": {
        "id": "906vcDvAAw2p"
      }
    },
    {
      "cell_type": "markdown",
      "source": [
        "## **Exploratory Data Analysis ( EDA )**"
      ],
      "metadata": {
        "id": "7fHpF64k7S9Q"
      }
    },
    {
      "cell_type": "markdown",
      "source": [
        "* **What items do customers buy more often?**"
      ],
      "metadata": {
        "id": "BPEAxCF1to7R"
      }
    },
    {
      "cell_type": "code",
      "source": [
        "# Ranking Percentage most popular products\n",
        "sum_basket = transactions['basket'].count()\n",
        "pd.DataFrame((transactions.groupby('upc')['basket'].count() / sum_basket).sort_values(ascending=False)[:10])"
      ],
      "metadata": {
        "id": "CBOxPmrGvhhT"
      },
      "execution_count": null,
      "outputs": []
    },
    {
      "cell_type": "code",
      "source": [
        "# Ranking most popular products\n",
        "pd.DataFrame((transactions.groupby('upc')['basket'].count()).sort_values(ascending=False)[:10])"
      ],
      "metadata": {
        "id": "0EQQmVK7twSo"
      },
      "execution_count": null,
      "outputs": []
    },
    {
      "cell_type": "code",
      "source": [
        "# Plot a bar chart\n",
        "((transactions.groupby('upc')['basket'].count()).sort_values(ascending=False)[:10]).plot(kind='bar')\n",
        "\n",
        "plt.xlabel('Record of Month')\n",
        "plt.ylabel('Count of basket')\n",
        "plt.title('The amount of product which customer buy per trip')\n",
        "plt.grid(True)\n",
        "plt.show()"
      ],
      "metadata": {
        "id": "M_G9w4jIBQCF"
      },
      "execution_count": null,
      "outputs": []
    },
    {
      "cell_type": "markdown",
      "source": [
        "**Result:** Top 10 most sold products represent around 13% of total items sold by the company."
      ],
      "metadata": {
        "id": "Iw_eUujJwNmU"
      }
    },
    {
      "cell_type": "markdown",
      "source": [
        "* **What is the most popular store?**"
      ],
      "metadata": {
        "id": "V96BpNJ9qwY2"
      }
    },
    {
      "cell_type": "markdown",
      "source": [
        "1. Ranking percentage frequency of customer each store"
      ],
      "metadata": {
        "id": "rAdjJHBctuFq"
      }
    },
    {
      "cell_type": "code",
      "source": [
        "pd.DataFrame(transactions.store.value_counts(normalize=True).head(10))"
      ],
      "metadata": {
        "id": "OKx9nYHFn-h4"
      },
      "execution_count": null,
      "outputs": []
    },
    {
      "cell_type": "markdown",
      "source": [
        "2. Ranking frequency of customer each store"
      ],
      "metadata": {
        "id": "GaZVbpKQt6kX"
      }
    },
    {
      "cell_type": "code",
      "source": [
        "(transactions.groupby('store')['basket'].nunique().sort_values(ascending=False).head(10)).plot(kind='bar')\n",
        "\n",
        "plt.xlabel('Store')\n",
        "plt.ylabel('Count of transaction')\n",
        "plt.title('The frequency distribution of transaction by store')\n",
        "plt.grid(True)\n",
        "plt.show()"
      ],
      "metadata": {
        "id": "mbLstQnfsuiY"
      },
      "execution_count": null,
      "outputs": []
    },
    {
      "cell_type": "markdown",
      "source": [
        "**Result:**\n",
        "Top 10 most popular store which customer often to go."
      ],
      "metadata": {
        "id": "c48USH9MuAz4"
      }
    },
    {
      "cell_type": "markdown",
      "source": [
        "* **What time of day would customers buy more often?**"
      ],
      "metadata": {
        "id": "n3VIL5OiS7LZ"
      }
    },
    {
      "cell_type": "code",
      "source": [
        "transactions_new.groupby('hour')['basket'].nunique().plot()\n",
        "plt.xlabel('Hour')\n",
        "plt.ylabel('Number of unique transactions')\n",
        "plt.title('The frequency of Unique Baskets per Hour')\n",
        "plt.grid(True)\n",
        "plt.show()"
      ],
      "metadata": {
        "id": "mEwgKNVqzaSH"
      },
      "execution_count": null,
      "outputs": []
    },
    {
      "cell_type": "markdown",
      "source": [
        "**Result:** Majority of the transactions of occure between 10am. to 8pm. with the peak at a 5pm."
      ],
      "metadata": {
        "id": "JC8dxyK1wAcA"
      }
    },
    {
      "cell_type": "markdown",
      "source": [
        "* **How much the total revenue by week?**"
      ],
      "metadata": {
        "id": "4SEWFKgwLIuC"
      }
    },
    {
      "cell_type": "markdown",
      "source": [
        "1. Rank the most income revenue each week record"
      ],
      "metadata": {
        "id": "P9fJT8R0VUQ7"
      }
    },
    {
      "cell_type": "code",
      "source": [
        "pd.DataFrame(transactions.groupby('week')['dollar_sales'].sum().sort_values(ascending=False)[:10])"
      ],
      "metadata": {
        "id": "Yiwik30NZ5wB"
      },
      "execution_count": null,
      "outputs": []
    },
    {
      "cell_type": "markdown",
      "source": [
        "2. Rank the least income revenue each week record"
      ],
      "metadata": {
        "id": "yi17mm2QZ9Xn"
      }
    },
    {
      "cell_type": "code",
      "source": [
        "pd.DataFrame(transactions.groupby('week')['dollar_sales'].sum().sort_values(ascending=True)[:10])"
      ],
      "metadata": {
        "id": "nrLsxqZVR5CX"
      },
      "execution_count": null,
      "outputs": []
    },
    {
      "cell_type": "markdown",
      "source": [
        "3. Record of income revenue each week"
      ],
      "metadata": {
        "id": "W-7P_6JhV_-V"
      }
    },
    {
      "cell_type": "code",
      "source": [
        "transactions.groupby('week')['dollar_sales'].sum().plot(legend=True)\n",
        "plt.grid(True)"
      ],
      "metadata": {
        "id": "3plbA3zHLH6c"
      },
      "execution_count": null,
      "outputs": []
    },
    {
      "cell_type": "markdown",
      "source": [
        "**Result:** Sales by week is highly fructuated."
      ],
      "metadata": {
        "id": "sEHyOoG_VmJh"
      }
    },
    {
      "cell_type": "markdown",
      "source": [
        "* **How much the sales product by every month record?**"
      ],
      "metadata": {
        "id": "FtDHCkZXPfVp"
      }
    },
    {
      "cell_type": "code",
      "source": [
        "transactions['Month'] = (transactions['day'] // 30 ) + 1\n",
        "transactions.groupby('Month')['dollar_sales'].sum().plot(legend=True)\n",
        "plt.xlabel('Record of Month')\n",
        "plt.ylabel('Count of basket')\n",
        "plt.title('The amount of product which customer buy per trip')\n",
        "plt.grid(True)\n",
        "plt.show()"
      ],
      "metadata": {
        "id": "FyvElappQYKz"
      },
      "execution_count": null,
      "outputs": []
    },
    {
      "cell_type": "markdown",
      "source": [
        "**Result:** Sales by month is however relatively steady between 350,000 to 450,000 dollars."
      ],
      "metadata": {
        "id": "dxhy1MZTUTIj"
      }
    },
    {
      "cell_type": "markdown",
      "source": [
        "* **What is the ratio geography by transaction?**"
      ],
      "metadata": {
        "id": "Ps_XHVKYw2CV"
      }
    },
    {
      "cell_type": "markdown",
      "source": [
        "The diagram represent ratio between geography 1 and 2."
      ],
      "metadata": {
        "id": "1EgaPDgtKAwt"
      }
    },
    {
      "cell_type": "code",
      "source": [
        "# Represent a ratio between geography 1 and 2 by trip\n",
        "pd.DataFrame(transactions.geography.value_counts(normalize=True))"
      ],
      "metadata": {
        "id": "7KHFWTb8m2t-"
      },
      "execution_count": null,
      "outputs": []
    },
    {
      "cell_type": "code",
      "source": [
        "# The chart shows percentage between geography 1 and 2 by trip\n",
        "(transactions.geography.value_counts(normalize=True)).plot(kind='pie', x='geography', autopct='%0.00f%%', startangle=60)\n",
        "plt.title('The ratio of area')\n",
        "plt.show()"
      ],
      "metadata": {
        "id": "oE13d8GWyEEX"
      },
      "execution_count": null,
      "outputs": []
    },
    {
      "cell_type": "markdown",
      "source": [
        "**Result:** Around 54% of total transactions is from area 1."
      ],
      "metadata": {
        "id": "3kbUb6Pud0Ci"
      }
    },
    {
      "cell_type": "markdown",
      "source": [
        "**How many product does each customer buy?**"
      ],
      "metadata": {
        "id": "GhAXXQ51xwci"
      }
    },
    {
      "cell_type": "markdown",
      "source": [
        "1. The frequency the quantity of items"
      ],
      "metadata": {
        "id": "K7Z7WwFvhcB2"
      }
    },
    {
      "cell_type": "code",
      "source": [
        "select_col = transactions[['basket','upc']]\n",
        "select_trans = select_col.pivot_table(index='basket', values='upc', aggfunc='count')\n",
        "\n",
        "select_trans['upc'].plot(kind='hist', bins=30, title='upc')\n",
        "plt.gca().spines[['top', 'right',]].set_visible(False)\n",
        "\n",
        "plt.xlabel('amount of purchased')\n",
        "plt.ylabel('Count of basket')\n",
        "plt.title('The frequency of items per purchased.')\n",
        "plt.grid(True)\n",
        "plt.show()"
      ],
      "metadata": {
        "id": "aIJy3AbMB5Po"
      },
      "execution_count": null,
      "outputs": []
    },
    {
      "cell_type": "markdown",
      "source": [
        "**Note:** The 1e6 is represent a 1,000,000"
      ],
      "metadata": {
        "id": "hvHv9aagiENL"
      }
    },
    {
      "cell_type": "markdown",
      "source": [
        "2. The frequency percentage the quantity of items"
      ],
      "metadata": {
        "id": "O0uDId-PH138"
      }
    },
    {
      "cell_type": "code",
      "source": [
        "counts = select_trans['upc'].value_counts()\n",
        "percentages = counts / counts.sum() * 100\n",
        "result_df = pd.DataFrame({'Count': counts, 'Percentage': percentages})\n",
        "result_df"
      ],
      "metadata": {
        "id": "aiJHfaZQG28h"
      },
      "execution_count": null,
      "outputs": []
    },
    {
      "cell_type": "markdown",
      "source": [
        "**Result:** The large majority of customers(around 96%) typically purchased between 1 to 4 items, with a peak at 1 items(around 61%). There is a huge opportunity to identify items that can be potentially purchased with."
      ],
      "metadata": {
        "id": "nxPY4XZEiE_c"
      }
    },
    {
      "cell_type": "markdown",
      "source": [
        "## **Apriori algorithm**"
      ],
      "metadata": {
        "id": "MCsxxNy8hqhQ"
      }
    },
    {
      "cell_type": "code",
      "source": [
        "# Create new dataframe from selected columns\n",
        "df = new_transactions[['basket', 'upc', 'units']]\n",
        "df"
      ],
      "metadata": {
        "id": "PnDKDauriHgc"
      },
      "execution_count": null,
      "outputs": []
    },
    {
      "cell_type": "code",
      "source": [
        "# Group value using pivot table\n",
        "transactions_pivot = df.pivot_table(index='basket', columns='upc', values='units', aggfunc='sum').fillna(0).astype(int)\n",
        "transactions_pivot"
      ],
      "metadata": {
        "id": "FUX8b72iWRBP"
      },
      "execution_count": null,
      "outputs": []
    },
    {
      "cell_type": "markdown",
      "source": [
        "**Note:** Each row corresponds to a unique 'basket,' each column corresponds to a unique 'upc', and the values represent the total count of 'units' purchased for each combination of basket and product."
      ],
      "metadata": {
        "id": "oPLh_wSggWym"
      }
    },
    {
      "cell_type": "code",
      "source": [
        "# Create a function for encode\n",
        "def encode(item_freq):\n",
        "    res = 0\n",
        "    if item_freq > 0:\n",
        "        res = 1\n",
        "    return res"
      ],
      "metadata": {
        "id": "-YLq2ThEeA1Y"
      },
      "execution_count": null,
      "outputs": []
    },
    {
      "cell_type": "code",
      "source": [
        "# Get transactions_pivot to apply encode (0,1)\n",
        "transactions_encoding = transactions_pivot.applymap(encode)\n",
        "transactions_encoding"
      ],
      "metadata": {
        "id": "m-_GGcpOGecd"
      },
      "execution_count": null,
      "outputs": []
    },
    {
      "cell_type": "code",
      "source": [
        "# Apriori Rule\n",
        "frequent_product = apriori(transactions_encoding, min_support=0.001, use_colnames=True)\n",
        "rules = association_rules(frequent_product, metric = \"lift\")\n",
        "rules"
      ],
      "metadata": {
        "id": "i5Zxq3JzHosE"
      },
      "execution_count": null,
      "outputs": []
    },
    {
      "cell_type": "markdown",
      "source": [
        "**Note:** A frequent itemset is a collection of items that have a higher frequency of occurrence compared to the threshold value specified in the transaction. This value is also known as the minimum support."
      ],
      "metadata": {
        "id": "J7e24CI3k5f9"
      }
    },
    {
      "cell_type": "markdown",
      "source": [
        "**Note:**\n",
        "Due to my output is empty, it may indicate that there are no frequent itemsets that meet the specified minimum support threshold of 0.01 in dataset. It's possible that the transactions in the dataset do not exhibit frequent patterns based on the chosen minimum support."
      ],
      "metadata": {
        "id": "ui_IiWaXo9YY"
      }
    },
    {
      "cell_type": "markdown",
      "source": [
        "## **Apriori Agorithm by Association Rule**"
      ],
      "metadata": {
        "id": "oHhoUw5t7uFI"
      }
    },
    {
      "cell_type": "markdown",
      "source": [
        "Generate association rules from frequent itemsets with their\n",
        "corresponding Support, Confidence, and Lift. From this we can then extract useful information about which items are more likely to be purchased together.\n"
      ],
      "metadata": {
        "id": "TNvpptcfdMNi"
      }
    },
    {
      "cell_type": "markdown",
      "source": [
        "**Note:** To generate the frequent pattern with minimum support is 0.001"
      ],
      "metadata": {
        "id": "Js-VCzGNNoLa"
      }
    },
    {
      "cell_type": "code",
      "source": [
        "# Set frequent pattern with minimum support is 0.001\n",
        "frequent_product = apriori(transactions_encoding, min_support=0.001, use_colnames=True)\n",
        "# Summary Support, Confidence and Lift with sort value by Lift\n",
        "metric = 'lift'\n",
        "min_threshold = 1\n",
        "\n",
        "rules = association_rules(frequent_product, metric=metric, min_threshold=min_threshold)[['antecedents', 'consequents', 'support', 'confidence', 'lift']]\n",
        "rules = rules.sort_values('lift', ascending=False).reset_index(drop=True)\n",
        "rules.head(10)"
      ],
      "metadata": {
        "id": "ug4ohXNUcNCm"
      },
      "execution_count": null,
      "outputs": []
    },
    {
      "cell_type": "markdown",
      "source": [
        "## **Interpretation**"
      ],
      "metadata": {
        "id": "NzYaA68tgPb_"
      }
    },
    {
      "cell_type": "markdown",
      "source": [
        "We can inteprete data from the table as followings,\n",
        "* There is a strong support of 0.1164% transactions for upc: 7130030013 and  upc: 7130030011 in the same basket. We have 34.6154% confidence that upc: 7130030011 will be bought whenever upc: 7130030013 is bought. The purchased of product upc: 7130030011 is 70.45 times more whenever upc: 7130030013 is purchased than when upc: 7130030011 is purchased alone.\n",
        "\n",
        "* There is a strong support of 0.1164% transactions for upc: 7130030011 and  upc: 7130030013 in the same basket. We have 23.6842% confidence that upc: 7130030011 will be bought whenever upc: 7130030011 is bought. The purchased of product upc: 7130030011 is 70.45 times more whenever upc: 7130030011 is purchased than when upc: 7130030013 is purchased alone.\n",
        "\n",
        "* There is a strong support of 0.1552% transactions for upc: 4112900005, and  upc: 4112900006 in the same basket. We have 23.0769% confidence that upc: 4112900006 will be bought whenever upc: 4112900005 is bought. The purchased of product upc: 4112900006 is 55.77 times more whenever upc: 4112900005 is purchased than when upc: 4112900006 is purchased alone.\n",
        "\n",
        "* There is a strong support of 0.1552% transactions for upc: 4112900006, and  upc: 4112900005 in the same basket. We have 37.5000% confidence that upc: 4112900006 will be bought whenever upc: 4112900005 is bought. The purchased of product upc: 4112900006 is 55.77 times more whenever upc: 4112900005 is purchased than when upc: 4112900006 is purchased alone.\n",
        "\n",
        "* There is a strong support of 0.1164% transactions for upc: 7680850295, upc: 7151800016, and upc: 601011296 in the same basket. We have 6.97% confidence that upc: 7680850295 will be bought whenever upc: 7151800016,  and upc: 601011296 is bought. The purchased of product upc: 7130030016 is 49.05 times more whenever upc: 7680850295 is purchased than when upc: 7151800016,  and 601011296 is purchased alone.\n",
        "\n",
        "* There is a strong support of 0.1164% transactions for upc: 7680850295, upc: 7151800016, and upc: 601011296 in the same basket. We have 81.8182% confidence that upc: 7151800016, and upc: 601011296 will be bought whenever upc: 7680850295 is bought. The purchased of product upc: 7130030011 is 49.05 times more whenever upc: 7680850295 is purchased than when upc: 7151800016,  and 601011296 is purchased alone.\n",
        "\n",
        "* There is a strong support of 0.1939% transactions for upc: 601011296, upc: 7680850295 and  upc: 1800000956 in the same basket. We have 30.61% confidence that upc: 1800000956 will be bought whenever upc: 601011296 and upc: 7680850295 is bought. The purchased of product upc: 1800000956 is 45.52 times more whenever upc: 601011296 and upc: 7680850295 is purchased than when upc: 1800000956 is purchased alone.\n",
        "\n",
        "* There is a strong support of 0.1939% transactions for upc: 601011296, upc: 7680850295 and  upc: 1800000956 in the same basket. We have 28.84% confidence that upc: 601011296 and upc: 7680850295 will be bought whenever upc: 1800000956 is bought. The purchased of product upc: 1800000956 is 45.52 times more whenever upc: 1800000956 is purchased than when upc: 601011296 and upc: 7680850295 is purchased alone.\n",
        "\n",
        "* There is a strong support of 0.1164% transactions for upc: 7151800016, upc: 7680850295 and upc: 601011296 in the same basket. We have 4.76% confidence that  upc: 7151800016 and upc: 7680850295 will be bought whenever upc: 601011296 is bought. The purchased of product upc: 601011296 is 36.82 times more whenever upc: 7151800016 and upc: 7680850295 is purchased than when upc: 7151800016 and upc: 7680850295 is purchased alone.\n",
        "\n",
        "* There is a strong support of 0.1164% transactions for upc: 7151800016, upc: 7680850295 and upc: 601011296 in the same basket. We have 90% confidence that upc: 601011296 will be bought whenever upc: 7151800016 and upc: 7680850295 is bought. The purchased of product upc: 601011296 is 36.82 times more whenever upc: 7151800016 and upc: 7680850295 is purchased than when upc: 601011296 is purchased alone.\n",
        "\n",
        "As we set the cofindence threshold to at least 25%, so the association rules below 25% will be excluded. As a result, there are only 6 itemsets suitable for cross-selling.\n",
        "\n",
        "* (7130030013) will be bought whenever (7130030011) is bought, (34.61%)\n",
        "\n",
        "* (4112900006) will be bought whenever (4112900005) is bought, (37.50%)\n",
        "\n",
        "* (7151800016, 601011296) will be bought whenever (7680850295) is bought, (81.81%)\n",
        "\n",
        "* (601011296, 7680850295) will be bought whenever (1800000956) is bought, (30.61%)\n",
        "\n",
        "* (1800000956) will be bought whenever(601011296, 7680850295) is bought, (28.84%)\n",
        "\n",
        "* (7151800016, 7680850295) will be bought whenever (601011296) is bought, (90%)\n"
      ],
      "metadata": {
        "id": "SShE6W23hI2V"
      }
    },
    {
      "cell_type": "markdown",
      "source": [
        "## **Implication and Recommendation**\n",
        "\n"
      ],
      "metadata": {
        "id": "nYr1QcyagPSV"
      }
    },
    {
      "cell_type": "markdown",
      "source": [
        "Due to time constrainted, I can only run the association rule analysis to identify the items that are frequently purchased together which is potential for cross-selling. In order to improve the purchase of product from the food retail, I recommend the store manager to rearrange the placement of each pair of product items mentioned above next to each other. I would recommend the further anlaysis to improve promotion strategies based on the dataset in the causal file."
      ],
      "metadata": {
        "id": "AzfmAxhTqdCR"
      }
    }
  ]
}